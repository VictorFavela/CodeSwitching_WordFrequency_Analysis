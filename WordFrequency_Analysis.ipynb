{
 "cells": [
  {
   "cell_type": "code",
   "execution_count": 1,
   "metadata": {},
   "outputs": [],
   "source": [
    "import numpy as np \n",
    "import pandas as pd \n",
    "import matplotlib.pyplot as plt\n",
    "import seaborn as sns\n",
    "\n",
    "from rapidfuzz  import fuzz\n",
    "from rapidfuzz  import process\n",
    "\n",
    "from tqdm import tqdm_notebook\n"
   ]
  },
  {
   "cell_type": "markdown",
   "metadata": {},
   "source": [
    "## Reading in Frequency Lists"
   ]
  },
  {
   "cell_type": "code",
   "execution_count": 2,
   "metadata": {},
   "outputs": [
    {
     "output_type": "execute_result",
     "data": {
      "text/plain": "  Orden Frec.absoluta    Frec.normalizada \n0    de     9,999,518             65545.55\n1    la     6,277,560             41148.59\n2  que      4,681,839             30688.85\n3    el     4,569,652             29953.48\n4    en     4,234,281             27755.16",
      "text/html": "<div>\n<style scoped>\n    .dataframe tbody tr th:only-of-type {\n        vertical-align: middle;\n    }\n\n    .dataframe tbody tr th {\n        vertical-align: top;\n    }\n\n    .dataframe thead th {\n        text-align: right;\n    }\n</style>\n<table border=\"1\" class=\"dataframe\">\n  <thead>\n    <tr style=\"text-align: right;\">\n      <th></th>\n      <th>Orden</th>\n      <th>Frec.absoluta</th>\n      <th>Frec.normalizada</th>\n    </tr>\n  </thead>\n  <tbody>\n    <tr>\n      <td>0</td>\n      <td>de</td>\n      <td>9,999,518</td>\n      <td>65545.55</td>\n    </tr>\n    <tr>\n      <td>1</td>\n      <td>la</td>\n      <td>6,277,560</td>\n      <td>41148.59</td>\n    </tr>\n    <tr>\n      <td>2</td>\n      <td>que</td>\n      <td>4,681,839</td>\n      <td>30688.85</td>\n    </tr>\n    <tr>\n      <td>3</td>\n      <td>el</td>\n      <td>4,569,652</td>\n      <td>29953.48</td>\n    </tr>\n    <tr>\n      <td>4</td>\n      <td>en</td>\n      <td>4,234,281</td>\n      <td>27755.16</td>\n    </tr>\n  </tbody>\n</table>\n</div>"
     },
     "metadata": {},
     "execution_count": 2
    }
   ],
   "source": [
    "SpanishFrequencyDF = pd.read_csv('FrequencyLists/CREA_total.TXT', sep = '\\t', encoding='ansi')\n",
    "SpanishFrequencyDF.reset_index(drop = True, inplace = True)\n",
    "SpanishFrequencyDF.dropna(inplace = True)\n",
    "SpanishFrequencyDF.rename({'     Orden': 'Orden'}, axis = 1, inplace = True)\n",
    "\n",
    "SpanishFrequencyDF.head()"
   ]
  },
  {
   "cell_type": "code",
   "execution_count": 3,
   "metadata": {},
   "outputs": [
    {
     "output_type": "execute_result",
     "data": {
      "text/plain": "  word        count\n0  the  23135851162\n1   of  13151942776\n2  and  12997637966\n3   to  12136980858\n4    a   9081174698",
      "text/html": "<div>\n<style scoped>\n    .dataframe tbody tr th:only-of-type {\n        vertical-align: middle;\n    }\n\n    .dataframe tbody tr th {\n        vertical-align: top;\n    }\n\n    .dataframe thead th {\n        text-align: right;\n    }\n</style>\n<table border=\"1\" class=\"dataframe\">\n  <thead>\n    <tr style=\"text-align: right;\">\n      <th></th>\n      <th>word</th>\n      <th>count</th>\n    </tr>\n  </thead>\n  <tbody>\n    <tr>\n      <td>0</td>\n      <td>the</td>\n      <td>23135851162</td>\n    </tr>\n    <tr>\n      <td>1</td>\n      <td>of</td>\n      <td>13151942776</td>\n    </tr>\n    <tr>\n      <td>2</td>\n      <td>and</td>\n      <td>12997637966</td>\n    </tr>\n    <tr>\n      <td>3</td>\n      <td>to</td>\n      <td>12136980858</td>\n    </tr>\n    <tr>\n      <td>4</td>\n      <td>a</td>\n      <td>9081174698</td>\n    </tr>\n  </tbody>\n</table>\n</div>"
     },
     "metadata": {},
     "execution_count": 3
    }
   ],
   "source": [
    "EnglishFrequencyDF = pd.read_csv('FrequencyLists/unigram_freq.csv')\n",
    "\n",
    "EnglishFrequencyDF.head()"
   ]
  },
  {
   "cell_type": "markdown",
   "metadata": {},
   "source": [
    "## Defining Word Frequency Method"
   ]
  },
  {
   "cell_type": "code",
   "execution_count": 4,
   "metadata": {},
   "outputs": [],
   "source": [
    "def getWordFrequency(word, lang, fuzzy = True, fuzzylim = 95):\n",
    "\n",
    "    DatabaseDF = None\n",
    "    colName = None\n",
    "\n",
    "    if (lang == 'Spn'):\n",
    "        ## Spanish Frequency\n",
    "        DatabaseDF = SpanishFrequencyDF\n",
    "        colName = 'Orden'\n",
    "\n",
    "    elif(lang == 'Eng'):\n",
    "        ## English Frequency\n",
    "        DatabaseDF = EnglishFrequencyDF\n",
    "        colName = 'word'\n",
    "\n",
    "    else:\n",
    "        raise Exception(\"Language not in frequency lists\")\n",
    "\n",
    "    if (fuzzy):\n",
    "        ## Uses fuzzysearch to get similar word\n",
    "        result = None\n",
    "        \n",
    "        try:\n",
    "            result = process.extractOne(word, DatabaseDF[colName])\n",
    "        except TypeError:\n",
    "            return -1\n",
    "\n",
    "        if (result[1] >= fuzzylim):\n",
    "            return result[2]\n",
    "        else:\n",
    "            return -1\n",
    "\n",
    "    else:\n",
    "        ## Uses direct string matching\n",
    "        result = DatabaseDF[DatabaseDF[colName] == word].index\n",
    "\n",
    "        if (len(result) > 0):\n",
    "            return result[0]\n",
    "        else:\n",
    "            return -1"
   ]
  },
  {
   "cell_type": "markdown",
   "metadata": {},
   "source": [
    "## Reading in Text"
   ]
  },
  {
   "cell_type": "code",
   "execution_count": 5,
   "metadata": {},
   "outputs": [
    {
     "output_type": "execute_result",
     "data": {
      "text/plain": "          Token    Tag\n48904         \"  Punct\n48905        es    Spn\n48906      otra    Spn\n48907  historia    Spn\n48908         .  Punct",
      "text/html": "<div>\n<style scoped>\n    .dataframe tbody tr th:only-of-type {\n        vertical-align: middle;\n    }\n\n    .dataframe tbody tr th {\n        vertical-align: top;\n    }\n\n    .dataframe thead th {\n        text-align: right;\n    }\n</style>\n<table border=\"1\" class=\"dataframe\">\n  <thead>\n    <tr style=\"text-align: right;\">\n      <th></th>\n      <th>Token</th>\n      <th>Tag</th>\n    </tr>\n  </thead>\n  <tbody>\n    <tr>\n      <td>48904</td>\n      <td>\"</td>\n      <td>Punct</td>\n    </tr>\n    <tr>\n      <td>48905</td>\n      <td>es</td>\n      <td>Spn</td>\n    </tr>\n    <tr>\n      <td>48906</td>\n      <td>otra</td>\n      <td>Spn</td>\n    </tr>\n    <tr>\n      <td>48907</td>\n      <td>historia</td>\n      <td>Spn</td>\n    </tr>\n    <tr>\n      <td>48908</td>\n      <td>.</td>\n      <td>Punct</td>\n    </tr>\n  </tbody>\n</table>\n</div>"
     },
     "metadata": {},
     "execution_count": 5
    }
   ],
   "source": [
    "KillerCronicasDF = pd.read_csv('CodeSwitching_Text/Killer_Cronicas-output.txt', sep = ',', encoding = 'ansi', quoting = 3)\n",
    "\n",
    "KillerCronicasDF.tail()"
   ]
  },
  {
   "cell_type": "markdown",
   "metadata": {},
   "source": [
    "## Calculating Hit Rate"
   ]
  },
  {
   "cell_type": "code",
   "execution_count": 6,
   "metadata": {},
   "outputs": [
    {
     "output_type": "display_data",
     "data": {
      "text/plain": "HBox(children=(IntProgress(value=0, max=48909), HTML(value='')))",
      "application/vnd.jupyter.widget-view+json": {
       "version_major": 2,
       "version_minor": 0,
       "model_id": "5ce199a11c9645d2ac1389aac97af10b"
      }
     },
     "metadata": {}
    },
    {
     "output_type": "stream",
     "name": "stdout",
     "text": "\nTotal Words:37424\n---------\nSearchHits:25604\nSearchPercent0.6841598973920479\n---------\nfuzzyAttempts:11820\nfuzzyHits:7452\nfuzzyPercent:0.6304568527918781\n---------\nTotal Percent:0.8832834544677213\n"
    }
   ],
   "source": [
    "lanTags = ['Eng', 'Spn']\n",
    "\n",
    "wordCount = 0\n",
    "searchCount = 0\n",
    "fuzzyAttempts = 0\n",
    "fuzzyCount = 0\n",
    "\n",
    "notFoundList = []\n",
    "\n",
    "for index, row in tqdm_notebook(KillerCronicasDF.iterrows(), total=KillerCronicasDF.shape[0]):\n",
    "   if (row['Tag'] in lanTags):\n",
    "        wordCount += 1\n",
    "\n",
    "        searchFrequency = getWordFrequency(row['Token'],row['Tag'], fuzzy = False)\n",
    "\n",
    "        if (searchFrequency != -1): \n",
    "            searchCount += 1\n",
    "        else:\n",
    "            fuzzyAttempts += 1\n",
    "        \n",
    "            fuzzyfrequency = getWordFrequency(row['Token'],row['Tag'])\n",
    "\n",
    "            if (fuzzyfrequency != -1):\n",
    "                fuzzyCount += 1\n",
    "            else:\n",
    "                notFoundList.append(row)\n",
    "\n",
    "        \n",
    "\n",
    "print(\"Total Words: \", wordCount)\n",
    "print(\"---------\")\n",
    "print(\"SearchHits: \", searchCount)\n",
    "print(\"SearchPercent\", (searchCount/wordCount))\n",
    "print(\"---------\")\n",
    "print(\"fuzzyAttempts: \", fuzzyAttempts)\n",
    "print(\"fuzzyHits: \", fuzzyCount)\n",
    "print(\"fuzzyPercent: \", (fuzzyCount/fuzzyAttempts))\n",
    "print(\"---------\")\n",
    "print(\"Total Percent: \", (searchCount + fuzzyCount)/wordCount)"
   ]
  },
  {
   "cell_type": "code",
   "execution_count": null,
   "metadata": {},
   "outputs": [],
   "source": []
  }
 ],
 "metadata": {
  "language_info": {
   "codemirror_mode": {
    "name": "ipython",
    "version": 3
   },
   "file_extension": ".py",
   "mimetype": "text/x-python",
   "name": "python",
   "nbconvert_exporter": "python",
   "pygments_lexer": "ipython3",
   "version": "3.6.7-final"
  },
  "orig_nbformat": 2,
  "kernelspec": {
   "name": "python36764bit24dacedfe9e6463d8bd6ff0ce05a9d05",
   "display_name": "Python 3.6.7 64-bit"
  }
 },
 "nbformat": 4,
 "nbformat_minor": 2
}