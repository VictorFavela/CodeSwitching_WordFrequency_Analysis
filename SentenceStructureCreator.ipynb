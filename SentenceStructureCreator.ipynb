{
 "cells": [
  {
   "cell_type": "code",
   "execution_count": 1,
   "metadata": {},
   "outputs": [],
   "source": [
    "import numpy as np \n",
    "import pandas as pd \n",
    "import matplotlib.pyplot as plt\n",
    "import seaborn as sns\n",
    "\n",
    "import requests\n",
    "import json\n",
    "\n",
    "from tqdm import tqdm_notebook\n",
    "\n",
    "import time"
   ]
  },
  {
   "cell_type": "code",
   "execution_count": 2,
   "metadata": {},
   "outputs": [
    {
     "output_type": "execute_result",
     "data": {
      "text/plain": "          Token  Tag\n0           The  Eng\n1          list  Eng\n2            is  Eng\n3        rather  Eng\n4  voluptuously  Eng",
      "text/html": "<div>\n<style scoped>\n    .dataframe tbody tr th:only-of-type {\n        vertical-align: middle;\n    }\n\n    .dataframe tbody tr th {\n        vertical-align: top;\n    }\n\n    .dataframe thead th {\n        text-align: right;\n    }\n</style>\n<table border=\"1\" class=\"dataframe\">\n  <thead>\n    <tr style=\"text-align: right;\">\n      <th></th>\n      <th>Token</th>\n      <th>Tag</th>\n    </tr>\n  </thead>\n  <tbody>\n    <tr>\n      <td>0</td>\n      <td>The</td>\n      <td>Eng</td>\n    </tr>\n    <tr>\n      <td>1</td>\n      <td>list</td>\n      <td>Eng</td>\n    </tr>\n    <tr>\n      <td>2</td>\n      <td>is</td>\n      <td>Eng</td>\n    </tr>\n    <tr>\n      <td>3</td>\n      <td>rather</td>\n      <td>Eng</td>\n    </tr>\n    <tr>\n      <td>4</td>\n      <td>voluptuously</td>\n      <td>Eng</td>\n    </tr>\n  </tbody>\n</table>\n</div>"
     },
     "metadata": {},
     "execution_count": 2
    }
   ],
   "source": [
    "KillerCronicasDF = pd.read_csv('CodeSwitching_Text/Killer_Cronicas-output.txt', sep = ',', quoting = 3)\n",
    "\n",
    "KillerCronicasDF.head()"
   ]
  },
  {
   "cell_type": "markdown",
   "metadata": {},
   "source": [
    "## Initial Creation"
   ]
  },
  {
   "cell_type": "code",
   "execution_count": 3,
   "metadata": {
    "tags": [
     "outputPrepend"
    ]
   },
   "outputs": [],
   "source": [
    "SentenceTerminators = ['.','!','?']\n",
    "\n",
    "SentenceList = []\n",
    "TagList = []\n",
    "\n",
    "currentSentence = \"\"\n",
    "currentTagList = \"\"\n",
    "\n",
    "for index, row in KillerCronicasDF.iterrows():\n",
    "    currentToken = row['Token']\n",
    "    currentTag = row['Tag']\n",
    "\n",
    "    if ((currentTag == 'Punct') & (currentToken in SentenceTerminators)):\n",
    "        currentSentence += (\" \" + currentToken)\n",
    "        \n",
    "        SentenceList.append(currentSentence)\n",
    "        TagList.append(currentTagList)\n",
    "\n",
    "        currentSentence = \"\"\n",
    "        currentTagList = \"\"\n",
    "    else:\n",
    "        currentSentence += (\" \" + currentToken)\n",
    "        currentTagList += (\" \" + currentTag)\n",
    "\n",
    "SentenceDF = pd.DataFrame({'Sentence': SentenceList, 'Tags' : TagList})\n",
    "\n",
    "SentenceDF['SentenceFrequency'] = np.nan\n",
    "SentenceDF['EnglishTrans'] = \"\"\n",
    "SentenceDF['EnglishFreq'] = np.nan\n",
    "SentenceDF['SpanishTrans'] = \"\"\n",
    "SentenceDF['SpanishFreq'] = np.nan\n",
    "\n",
    "SentenceDF.to_csv('SentenceDatabase.csv', index = False)"
   ]
  },
  {
   "cell_type": "markdown",
   "metadata": {},
   "source": [
    "## Translation Creation"
   ]
  },
  {
   "cell_type": "code",
   "execution_count": 4,
   "metadata": {},
   "outputs": [],
   "source": [
    "SentenceDF = pd.read_csv('SentenceDatabase.csv', dtype = {'EnglishTrans':str,'SpanishTrans':str})\n",
    "\n",
    "parameters = { 'auth_key' : '5e299c0b-ea07-caf5-a15e-b924ed542b08',\n",
    "                'text' : 'Error',\n",
    "                'target_lang' : 'en',\n",
    "                'source_lang' : 'es',\n",
    "                'preserve_formatting' : 1,\n",
    "                'split_sentences' : 0}\n",
    "requestUrl = 'https://api.deepl.com/v2/translate'"
   ]
  },
  {
   "cell_type": "code",
   "execution_count": 5,
   "metadata": {},
   "outputs": [
    {
     "output_type": "display_data",
     "data": {
      "text/plain": "HBox(children=(IntProgress(value=0, max=2890), HTML(value='')))",
      "application/vnd.jupyter.widget-view+json": {
       "version_major": 2,
       "version_minor": 0,
       "model_id": "544aa760c6f64c7ca89004fea65517fd"
      }
     },
     "metadata": {}
    },
    {
     "output_type": "stream",
     "name": "stdout",
     "text": "\n"
    }
   ],
   "source": [
    "\n",
    "for index, row in tqdm_notebook(SentenceDF.iterrows(), total=SentenceDF.shape[0]):\n",
    "    try:\n",
    "\n",
    "        if (pd.isna(row['EnglishTrans'])):\n",
    "\n",
    "            parameters['text'] = str(row['Sentence'])\n",
    "\n",
    "            response = requests.get(requestUrl, params = parameters)\n",
    "\n",
    "            if (response.status_code == 200):\n",
    "\n",
    "                translatedText = json.loads(response.content.decode('utf-8'))['translations'][0]['text']\n",
    "\n",
    "                SentenceDF.at[index, 'EnglishTrans'] = translatedText\n",
    "\n",
    "                if (index % 500 == 0):\n",
    "                    SentenceDF.to_csv('SentenceDatabase.csv', index = False)\n",
    "\n",
    "                time.sleep(0.05)\n",
    "    except:\n",
    "        SentenceDF.to_csv('SentenceDatabase.csv', index = False)\n",
    "        raise Exception('Something broke at index ', index)\n",
    "\n",
    "SentenceDF.to_csv('SentenceDatabase.csv', index = False)"
   ]
  },
  {
   "cell_type": "code",
   "execution_count": 6,
   "metadata": {},
   "outputs": [],
   "source": [
    "parameters = { 'auth_key' : '5e299c0b-ea07-caf5-a15e-b924ed542b08',\n",
    "                'text' : 'Error',\n",
    "                'target_lang' : 'es',\n",
    "                'source_lang' : 'en',\n",
    "                'preserve_formatting' : 1,\n",
    "                'split_sentences' : 0}"
   ]
  },
  {
   "cell_type": "code",
   "execution_count": 7,
   "metadata": {},
   "outputs": [
    {
     "output_type": "display_data",
     "data": {
      "text/plain": "HBox(children=(IntProgress(value=0, max=2890), HTML(value='')))",
      "application/vnd.jupyter.widget-view+json": {
       "version_major": 2,
       "version_minor": 0,
       "model_id": "2ba9527071bb4e53a66a5a6a3a9a9a2f"
      }
     },
     "metadata": {}
    },
    {
     "output_type": "stream",
     "name": "stdout",
     "text": "\n"
    }
   ],
   "source": [
    "\n",
    "for index, row in tqdm_notebook(SentenceDF.iterrows(), total=SentenceDF.shape[0]):\n",
    "    try:\n",
    "\n",
    "        if (pd.isna(row['SpanishTrans'])):\n",
    "\n",
    "            parameters['text'] = str(row['Sentence'])\n",
    "\n",
    "            response = requests.get(requestUrl, params = parameters)\n",
    "\n",
    "            if (response.status_code == 200):\n",
    "\n",
    "                translatedText = json.loads(response.content.decode('utf-8'))['translations'][0]['text']\n",
    "\n",
    "                SentenceDF.at[index, 'SpanishTrans'] = translatedText\n",
    "\n",
    "                if (index % 500 == 0):\n",
    "                    SentenceDF.to_csv('SentenceDatabase.csv', index = False)\n",
    "\n",
    "                time.sleep(0.025)\n",
    "    except:\n",
    "        SentenceDF.to_csv('SentenceDatabase.csv', index = False)\n",
    "        raise Exception('Something broke at index ', index)\n",
    "\n",
    "SentenceDF.to_csv('SentenceDatabase.csv', index = False)"
   ]
  },
  {
   "cell_type": "code",
   "execution_count": 8,
   "metadata": {},
   "outputs": [
    {
     "output_type": "display_data",
     "data": {
      "text/plain": "HBox(children=(IntProgress(value=0, max=2890), HTML(value='')))",
      "application/vnd.jupyter.widget-view+json": {
       "version_major": 2,
       "version_minor": 0,
       "model_id": "2d97403e40fb4d989b9c23debe27ba3a"
      }
     },
     "metadata": {}
    },
    {
     "output_type": "stream",
     "name": "stdout",
     "text": "\nEnglish Translations Missing:\n[1, 820, 1938]\nSpanish Translations Missing:\n[1, 820, 1938]\n"
    }
   ],
   "source": [
    "\n",
    "EnglishMissing = []\n",
    "SpanishMissing = []\n",
    "\n",
    "for index, row in tqdm_notebook(SentenceDF.iterrows(), total=SentenceDF.shape[0]):\n",
    "    if (pd.isna(row['EnglishTrans'])):\n",
    "        EnglishMissing.append(index)\n",
    "    \n",
    "    if (pd.isna(row['SpanishTrans'])):\n",
    "        SpanishMissing.append(index)\n",
    "\n",
    "print(\"English Translations Missing:\")\n",
    "print(EnglishMissing)\n",
    "print(\"Spanish Translations Missing:\")\n",
    "print(SpanishMissing)\n"
   ]
  }
 ],
 "metadata": {
  "language_info": {
   "codemirror_mode": {
    "name": "ipython",
    "version": 3
   },
   "file_extension": ".py",
   "mimetype": "text/x-python",
   "name": "python",
   "nbconvert_exporter": "python",
   "pygments_lexer": "ipython3",
   "version": "3.6.7-final"
  },
  "orig_nbformat": 2,
  "kernelspec": {
   "name": "python36764bit24dacedfe9e6463d8bd6ff0ce05a9d05",
   "display_name": "Python 3.6.7 64-bit"
  }
 },
 "nbformat": 4,
 "nbformat_minor": 2
}